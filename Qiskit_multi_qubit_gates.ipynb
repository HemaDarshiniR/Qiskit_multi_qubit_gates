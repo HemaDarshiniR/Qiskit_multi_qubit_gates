{
  "cells": [
    {
      "cell_type": "markdown",
      "source": [
        "# **Base Circuit**"
      ],
      "metadata": {
        "id": "z3PfskuLSLMO"
      },
      "id": "z3PfskuLSLMO"
    },
    {
      "cell_type": "code",
      "metadata": {
        "id": "NOQIWRacv-y3",
        "colab": {
          "base_uri": "https://localhost:8080/"
        },
        "outputId": "8423e166-2672-4628-aa22-08ee703bcf29"
      },
      "source": [
        "!pip install qiskit --quiet\n",
        "!pip install qiskit-aer --quiet\n",
        "\n",
        "from qiskit import QuantumCircuit, transpile\n",
        "from qiskit_aer import AerSimulator\n",
        "\n",
        "# Initialize simulator\n",
        "sim = AerSimulator()\n",
        "\n",
        "# Create a 2-qubit circuit with 2 classical bits\n",
        "qc = QuantumCircuit(2, 2)\n",
        "\n",
        "# --- Apply multi-qubit gates ---\n",
        "qc.h(0)        # Hadamard on qubit 0\n",
        "qc.cx(0, 1)    # CNOT: control=0, target=1\n",
        "qc.cz(0, 1)    # Controlled-Z: control=0, target=1\n",
        "qc.swap(0, 1)  # Swap qubits 0 and 1\n",
        "\n",
        "# Measure both qubits\n",
        "qc.measure_all()\n",
        "\n",
        "# Display circuit\n",
        "print(\"Quantum Circuit:\")\n",
        "print(qc.draw())\n",
        "\n",
        "# --- Run simulation ---\n",
        "compiled = transpile(qc, sim)\n",
        "result = sim.run(compiled, shots=1024).result()\n",
        "\n",
        "# --- Display results ---\n",
        "counts = result.get_counts()\n",
        "print(\"\\nMeasurement Counts:\", counts)\n"
      ],
      "execution_count": 1,
      "outputs": [
        {
          "output_type": "stream",
          "name": "stdout",
          "text": [
            "\u001b[2K   \u001b[90m━━━━━━━━━━━━━━━━━━━━━━━━━━━━━━━━━━━━━━━━\u001b[0m \u001b[32m8.0/8.0 MB\u001b[0m \u001b[31m56.3 MB/s\u001b[0m eta \u001b[36m0:00:00\u001b[0m\n",
            "\u001b[2K   \u001b[90m━━━━━━━━━━━━━━━━━━━━━━━━━━━━━━━━━━━━━━━━\u001b[0m \u001b[32m2.2/2.2 MB\u001b[0m \u001b[31m78.6 MB/s\u001b[0m eta \u001b[36m0:00:00\u001b[0m\n",
            "\u001b[2K   \u001b[90m━━━━━━━━━━━━━━━━━━━━━━━━━━━━━━━━━━━━━━━━\u001b[0m \u001b[32m49.5/49.5 kB\u001b[0m \u001b[31m3.7 MB/s\u001b[0m eta \u001b[36m0:00:00\u001b[0m\n",
            "\u001b[2K   \u001b[90m━━━━━━━━━━━━━━━━━━━━━━━━━━━━━━━━━━━━━━━━\u001b[0m \u001b[32m12.4/12.4 MB\u001b[0m \u001b[31m80.7 MB/s\u001b[0m eta \u001b[36m0:00:00\u001b[0m\n",
            "\u001b[?25hQuantum Circuit:\n",
            "        ┌───┐            ░ ┌─┐   \n",
            "   q_0: ┤ H ├──■───■──X──░─┤M├───\n",
            "        └───┘┌─┴─┐ │  │  ░ └╥┘┌─┐\n",
            "   q_1: ─────┤ X ├─■──X──░──╫─┤M├\n",
            "             └───┘       ░  ║ └╥┘\n",
            "   c: 2/════════════════════╬══╬═\n",
            "                            ║  ║ \n",
            "meas: 2/════════════════════╩══╩═\n",
            "                            0  1 \n",
            "\n",
            "Measurement Counts: {'11 00': 511, '00 00': 513}\n"
          ]
        }
      ],
      "id": "NOQIWRacv-y3"
    },
    {
      "cell_type": "markdown",
      "metadata": {
        "id": "B_QEU5O6v-y4"
      },
      "source": [
        "# **Task 1: Control/Target Variation**\n",
        "\n"
      ],
      "id": "B_QEU5O6v-y4"
    },
    {
      "cell_type": "code",
      "metadata": {
        "id": "mPhcfNBxv-y5",
        "colab": {
          "base_uri": "https://localhost:8080/"
        },
        "outputId": "4149d772-3dea-4b3a-de8b-f5ac192efb39"
      },
      "source": [
        "qc_var = QuantumCircuit(2, 2)\n",
        "qc_var.h(1)        # Apply H to qubit 1\n",
        "qc_var.cx(1, 0)    # Control = 1, Target = 0\n",
        "qc_var.cz(1, 0)    # Control = 1, Target = 0\n",
        "qc_var.swap(0, 1)\n",
        "qc_var.measure_all()\n",
        "\n",
        "compiled = transpile(qc_var, sim)\n",
        "counts_var = sim.run(compiled, shots=1024).result().get_counts()\n",
        "print(\"\\nCounts (Control/Target swapped):\", counts_var)\n",
        "print(\"==========================\")\n",
        "print(\"The distribution will shift — because which qubit controls the flip or phase affects entanglement and correlations.\")\n"
      ],
      "execution_count": 2,
      "outputs": [
        {
          "output_type": "stream",
          "name": "stdout",
          "text": [
            "\n",
            "Counts (Control/Target swapped): {'11 00': 489, '00 00': 535}\n",
            "==========================\n",
            "The distribution will shift — because which qubit controls the flip or phase affects entanglement and correlations.\n"
          ]
        }
      ],
      "id": "mPhcfNBxv-y5"
    },
    {
      "cell_type": "markdown",
      "source": [
        "# **Task 2: Gate Removal**"
      ],
      "metadata": {
        "id": "eQ-x5QvwKge2"
      },
      "id": "eQ-x5QvwKge2"
    },
    {
      "cell_type": "code",
      "source": [
        "qc_no_swap = QuantumCircuit(2, 2)\n",
        "qc_no_swap.h(0)\n",
        "qc_no_swap.cx(0, 1)\n",
        "qc_no_swap.cz(0, 1)\n",
        "qc_no_swap.measure_all()\n",
        "\n",
        "compiled = transpile(qc_no_swap, sim)\n",
        "counts_no_swap = sim.run(compiled, shots=1024).result().get_counts()\n",
        "print(\"\\nCounts (Without SWAP):\", counts_no_swap)\n",
        "print(\"===============================\")\n",
        "print(\"The qubits remain entangled but not exchanged — the probability pattern will differ slightly.\")\n"
      ],
      "metadata": {
        "colab": {
          "base_uri": "https://localhost:8080/"
        },
        "id": "HdE3TwqCKjQg",
        "outputId": "b97745d1-7e18-4e88-a4d3-338414c7297d"
      },
      "id": "HdE3TwqCKjQg",
      "execution_count": 3,
      "outputs": [
        {
          "output_type": "stream",
          "name": "stdout",
          "text": [
            "\n",
            "Counts (Without SWAP): {'11 00': 533, '00 00': 491}\n",
            "===============================\n",
            "The qubits remain entangled but not exchanged — the probability pattern will differ slightly.\n"
          ]
        }
      ]
    },
    {
      "cell_type": "markdown",
      "source": [
        "# **Task 3: Add Another Hadamard**"
      ],
      "metadata": {
        "id": "NlrXB8uCKqOz"
      },
      "id": "NlrXB8uCKqOz"
    },
    {
      "cell_type": "code",
      "source": [
        "qc_extra_h = QuantumCircuit(2, 2)\n",
        "qc_extra_h.h(0)\n",
        "qc_extra_h.h(1)     # New Hadamard on qubit 1\n",
        "qc_extra_h.cx(0, 1)\n",
        "qc_extra_h.cz(0, 1)\n",
        "qc_extra_h.swap(0, 1)\n",
        "qc_extra_h.measure_all()\n",
        "\n",
        "compiled = transpile(qc_extra_h, sim)\n",
        "counts_extra_h = sim.run(compiled, shots=1024).result().get_counts()\n",
        "print(\"\\nCounts (With extra H on qubit 1):\", counts_extra_h)\n",
        "print(\"============================\")\n",
        "print(\"Adding a Hadamard on the second qubit puts it into superposition too, altering how CNOT and CZ interact — leading to new probability combinations.\")\n"
      ],
      "metadata": {
        "colab": {
          "base_uri": "https://localhost:8080/"
        },
        "id": "Sr_r7BZsKswu",
        "outputId": "a033abd8-662e-458a-8a9b-27723bac8284"
      },
      "id": "Sr_r7BZsKswu",
      "execution_count": 4,
      "outputs": [
        {
          "output_type": "stream",
          "name": "stdout",
          "text": [
            "\n",
            "Counts (With extra H on qubit 1): {'01 00': 254, '11 00': 254, '10 00': 252, '00 00': 264}\n",
            "============================\n",
            "Adding a Hadamard on the second qubit puts it into superposition too, altering how CNOT and CZ interact — leading to new probability combinations.\n"
          ]
        }
      ]
    },
    {
      "cell_type": "code",
      "source": [],
      "metadata": {
        "id": "eGvhwDbDrd4u"
      },
      "id": "eGvhwDbDrd4u",
      "execution_count": null,
      "outputs": []
    }
  ],
  "metadata": {
    "kernelspec": {
      "display_name": "Python 3",
      "language": "python",
      "name": "python3"
    },
    "language_info": {
      "name": "python",
      "version": "3.10"
    },
    "colab": {
      "provenance": []
    }
  },
  "nbformat": 4,
  "nbformat_minor": 5
}